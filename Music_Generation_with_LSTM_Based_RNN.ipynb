{
  "nbformat": 4,
  "nbformat_minor": 0,
  "metadata": {
    "colab": {
      "name": "Music_Generation_with_LSTM_Based_RNN.ipynb",
      "provenance": [],
      "collapsed_sections": [],
      "authorship_tag": "ABX9TyNNus6rRj3s5de/xKIvoPBY",
      "include_colab_link": true
    },
    "kernelspec": {
      "name": "python3",
      "display_name": "Python 3"
    },
    "accelerator": "GPU"
  },
  "cells": [
    {
      "cell_type": "markdown",
      "metadata": {
        "id": "view-in-github",
        "colab_type": "text"
      },
      "source": [
        "<a href=\"https://colab.research.google.com/github/erd3muysal/Music_Generation_with_LSTM_Based_RNN/blob/master/Music_Generation_with_LSTM_Based_RNN.ipynb\" target=\"_parent\"><img src=\"https://colab.research.google.com/assets/colab-badge.svg\" alt=\"Open In Colab\"/></a>"
      ]
    },
    {
      "cell_type": "markdown",
      "metadata": {
        "id": "ND5TLNYtsUBO",
        "colab_type": "text"
      },
      "source": [
        "# Dependencies"
      ]
    },
    {
      "cell_type": "code",
      "metadata": {
        "id": "O_PlRWH4runp",
        "colab_type": "code",
        "colab": {}
      },
      "source": [
        "# Import all packages\n",
        "import os\n",
        "import time\n",
        "import regex as re\n",
        "from tqdm import tqdm\n",
        "import numpy as np\n",
        "# Import Tensorflow 2.0\n",
        "%tensorflow_version 2.x\n",
        "import tensorflow as tf"
      ],
      "execution_count": 1,
      "outputs": []
    },
    {
      "cell_type": "code",
      "metadata": {
        "id": "AR7hu_kbu0co",
        "colab_type": "code",
        "colab": {
          "resources": {
            "http://localhost:8080/nbextensions/google.colab/files.js": {
              "data": "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",
              "ok": true,
              "headers": [
                [
                  "content-type",
                  "application/javascript"
                ]
              ],
              "status": 200,
              "status_text": ""
            }
          },
          "base_uri": "https://localhost:8080/",
          "height": 73
        },
        "outputId": "96ac9ac9-f3d6-426b-c51c-ea913c7eef43"
      },
      "source": [
        "# Bring dataset file into Colab environment\n",
        "from google.colab import files\n",
        "uploaded = files.upload()"
      ],
      "execution_count": 2,
      "outputs": [
        {
          "output_type": "display_data",
          "data": {
            "text/html": [
              "\n",
              "     <input type=\"file\" id=\"files-17ff6bcf-92f9-42d4-b1b2-57d2da37bd43\" name=\"files[]\" multiple disabled\n",
              "        style=\"border:none\" />\n",
              "     <output id=\"result-17ff6bcf-92f9-42d4-b1b2-57d2da37bd43\">\n",
              "      Upload widget is only available when the cell has been executed in the\n",
              "      current browser session. Please rerun this cell to enable.\n",
              "      </output>\n",
              "      <script src=\"/nbextensions/google.colab/files.js\"></script> "
            ],
            "text/plain": [
              "<IPython.core.display.HTML object>"
            ]
          },
          "metadata": {
            "tags": []
          }
        },
        {
          "output_type": "stream",
          "text": [
            "Saving Music_of_Ireland.abc to Music_of_Ireland.abc\n"
          ],
          "name": "stdout"
        }
      ]
    },
    {
      "cell_type": "code",
      "metadata": {
        "id": "LXkFgBDDdFUq",
        "colab_type": "code",
        "colab": {
          "base_uri": "https://localhost:8080/",
          "height": 33
        },
        "outputId": "ee602a51-35e1-4825-e51a-fc8d98096cbf"
      },
      "source": [
        "# Define current working directory\n",
        "CWD = \"/content/\" \n",
        "# Define name of the dataset to be used\n",
        "DATASET_NAME = \"Music_of_Ireland.abc\"\n",
        "CWD, DATASET_NAME"
      ],
      "execution_count": 19,
      "outputs": [
        {
          "output_type": "execute_result",
          "data": {
            "text/plain": [
              "('/content/', 'Music_of_Ireland.abc')"
            ]
          },
          "metadata": {
            "tags": []
          },
          "execution_count": 19
        }
      ]
    },
    {
      "cell_type": "code",
      "metadata": {
        "id": "q15aCvUwvRU0",
        "colab_type": "code",
        "cellView": "code",
        "colab": {
          "base_uri": "https://localhost:8080/",
          "height": 251
        },
        "outputId": "b64b41ec-1dbb-4217-916a-2234a7357c65"
      },
      "source": [
        "def load_training_data(cwd, dataset):\n",
        "  \"\"\" Load training data\n",
        "\n",
        "  Arguments:\n",
        "  cwd -- Current working directory\n",
        "  dataset -- Name of the dataset to be trained on\n",
        "\n",
        "  Return:\n",
        "  songs -- the list that contains all song strings\n",
        "  \"\"\"\n",
        "  \n",
        "  with open(os.path.join(cwd, dataset), \"r\") as f:\n",
        "    text = f.read()\n",
        "  songs = extract_song_snippet(text)\n",
        "  return songs\n",
        "\n",
        "def extract_song_snippet(text):\n",
        "  # At every pattern, there is a different song record\n",
        "  pattern = '\\n\\n(.*?)\\n\\n'  \n",
        "  # Search individual song records according to defined pattern\n",
        "  search_results = re.findall(pattern, text, overlapped=True, flags=re.DOTALL)\n",
        "  # Write all song records into a list\n",
        "  songs = [song for song in search_results]\n",
        "  # Print number of records\n",
        "  print(\"Found {} songs in text\".format(len(songs)))\n",
        "  return songs\n",
        "\n",
        "songs = load_training_data(CWD, DATASET_NAME)\n",
        "\n",
        "# Print the song at index 0 in the list to see the details of the ABC notation and structure of data\n",
        "instance = songs[0]\n",
        "print(\"\\nInstance song: \\n\")\n",
        "print(instance, type(instance))"
      ],
      "execution_count": 20,
      "outputs": [
        {
          "output_type": "stream",
          "text": [
            "Found 812 songs in text\n",
            "\n",
            "Instance song: \n",
            "\n",
            "X:2\n",
            "T:An Buachaill Dreoite\n",
            "Z: id:dc-hornpipe-2\n",
            "M:C|\n",
            "L:1/8\n",
            "K:G Major\n",
            "GF|DGGB d2GB|d2GF Gc (3AGF|DGGB d2GB|dBcA F2GF|!\n",
            "DGGB d2GF|DGGF G2Ge|fgaf gbag|fdcA G2:|!\n",
            "GA|B2BG c2cA|d2GF G2GA|B2BG c2cA|d2DE F2GA|!\n",
            "B2BG c2cA|d^cde f2 (3def|g2gf gbag|fdcA G2:|! <class 'str'>\n"
          ],
          "name": "stdout"
        }
      ]
    },
    {
      "cell_type": "code",
      "metadata": {
        "id": "1v950pGh5Zh3",
        "colab_type": "code",
        "colab": {
          "base_uri": "https://localhost:8080/",
          "height": 33
        },
        "outputId": "9d8baa5a-9f2b-48eb-b0f9-26b9f2a3fd1f"
      },
      "source": [
        "# Join our list of song strings into a single string containing all songs\n",
        "songs_joined = \"\\n\\n\".join(songs) \n",
        "# Find and then sort all unique characters in the joined string\n",
        "vocab = sorted(set(songs_joined))\n",
        "print(\"There are\", len(vocab), \"unique characters in the dataset\")"
      ],
      "execution_count": 21,
      "outputs": [
        {
          "output_type": "stream",
          "text": [
            "There are 83 unique characters in the dataset\n"
          ],
          "name": "stdout"
        }
      ]
    },
    {
      "cell_type": "code",
      "metadata": {
        "id": "0ukYIgP45RrT",
        "colab_type": "code",
        "colab": {}
      },
      "source": [
        "### Define numerical representation of text data so that can be process by computer ###\n",
        "\n",
        "# Create a mapping from character to unique index.\n",
        "# For example, to get the index of the character \"d\", \n",
        "# we can evaluate `char2idx[\"d\"]`.  \n",
        "char2idx = {char:id for id, char in enumerate(vocab)}\n",
        "\n",
        "# Create a mapping from indices to characters. This is\n",
        "# the inverse of char2idx and allows us to convert back\n",
        "# from unique index to the character in our vocabulary.\n",
        "idx2char = np.array(vocab)"
      ],
      "execution_count": 6,
      "outputs": []
    },
    {
      "cell_type": "code",
      "metadata": {
        "id": "Jx30AiS95Vs7",
        "colab_type": "code",
        "colab": {
          "base_uri": "https://localhost:8080/",
          "height": 401
        },
        "outputId": "d205ea7b-aea8-41cc-d397-2e45e7f4b08a"
      },
      "source": [
        "print('{')\n",
        "for char,_ in zip(char2idx, range(20)):\n",
        "  print('  {:4s}: {:3d},'.format(repr(char), char2idx[char]))\n",
        "print('  ...\\n}')"
      ],
      "execution_count": 22,
      "outputs": [
        {
          "output_type": "stream",
          "text": [
            "{\n",
            "  '\\n':   0,\n",
            "  ' ' :   1,\n",
            "  '!' :   2,\n",
            "  '\"' :   3,\n",
            "  '#' :   4,\n",
            "  \"'\" :   5,\n",
            "  '(' :   6,\n",
            "  ')' :   7,\n",
            "  ',' :   8,\n",
            "  '-' :   9,\n",
            "  '.' :  10,\n",
            "  '/' :  11,\n",
            "  '0' :  12,\n",
            "  '1' :  13,\n",
            "  '2' :  14,\n",
            "  '3' :  15,\n",
            "  '4' :  16,\n",
            "  '5' :  17,\n",
            "  '6' :  18,\n",
            "  '7' :  19,\n",
            "  ...\n",
            "}\n"
          ],
          "name": "stdout"
        }
      ]
    },
    {
      "cell_type": "code",
      "metadata": {
        "id": "EUHWyrx95eeU",
        "colab_type": "code",
        "colab": {}
      },
      "source": [
        "def encode_string(string):\n",
        "  \"\"\" A function to convert all the song strings \n",
        "      to a vectorized and numeric representation.\n",
        "\n",
        "  Arguments:\n",
        "  string -- List of strings\n",
        "\n",
        "  Return:\n",
        "  encodeded_string -- Encoded list of strings\n",
        "  \n",
        "  NOTE: the output of the `vectorize_string` function \n",
        "  should be a np.array with `N` elements, where `N` is\n",
        "  the number of characters in the input string\n",
        "  \"\"\"\n",
        "  \n",
        "  encodeded_string = np.array([char2idx[char] for char in string])\n",
        "  return encodeded_string\n",
        "\n",
        "encodeded_songs = encode_string(songs_joined)"
      ],
      "execution_count": 23,
      "outputs": []
    },
    {
      "cell_type": "code",
      "metadata": {
        "id": "kk2xCkg1D5RD",
        "colab_type": "code",
        "colab": {
          "base_uri": "https://localhost:8080/",
          "height": 33
        },
        "outputId": "6f4397f9-6c64-4b43-cd99-003c16b638f4"
      },
      "source": [
        "print ('{} <--- characters mapped to int ---> {}'.format(repr(songs_joined[:10]), encodeded_songs[:10]))\n",
        "# Check that vectorized_songs is a numpy array\n",
        "assert isinstance(encodeded_songs, np.ndarray), \"returned result should be a numpy array\""
      ],
      "execution_count": 24,
      "outputs": [
        {
          "output_type": "stream",
          "text": [
            "'X:2\\nT:An B' <--- characters mapped to int ---> [49 22 14  0 45 22 26 69  1 27]\n"
          ],
          "name": "stdout"
        }
      ]
    },
    {
      "cell_type": "code",
      "metadata": {
        "id": "pUOyZlPt5i1X",
        "colab_type": "code",
        "colab": {}
      },
      "source": [
        "def get_batch(encodeded_songs, seq_length, batch_size):\n",
        "  \"\"\" Batch definition to create training examples\n",
        "  \"\"\"\n",
        "  \n",
        "  # The length of the vectorized songs string\n",
        "  n = encodeded_songs.shape[0] - 1\n",
        "  # Randomly choose the starting indices for the examples in the training batch\n",
        "  idx = np.random.choice(n-seq_length, batch_size)\n",
        "\n",
        "  # A list of input sequences for the training batch\n",
        "  input_batch = [encodeded_songs[i : i+seq_length] for i in idx]\n",
        "  # A list of output sequences for the training batch\n",
        "  output_batch = [encodeded_songs[i+1 : i+seq_length+1] for i in idx]\n",
        "\n",
        "  # x_batch, y_batch provide the true inputs and targets for network training\n",
        "  x_batch = np.reshape(input_batch, [batch_size, seq_length])\n",
        "  y_batch = np.reshape(output_batch, [batch_size, seq_length])\n",
        "    \n",
        "  return x_batch, y_batch\n",
        "\n",
        "x_batch, y_batch = get_batch(encodeded_songs, seq_length=5, batch_size=1)"
      ],
      "execution_count": 25,
      "outputs": []
    },
    {
      "cell_type": "code",
      "metadata": {
        "id": "wRXaXsefkCs8",
        "colab_type": "code",
        "colab": {
          "base_uri": "https://localhost:8080/",
          "height": 268
        },
        "outputId": "2539da5e-fdd0-4e2a-8694-262b189c0bfa"
      },
      "source": [
        "for i, (input_idx, target_idx) in enumerate(zip(np.squeeze(x_batch), np.squeeze(y_batch))):\n",
        "    print(\"Step {:3d}\".format(i))\n",
        "    print(\"  input: {} ({:s})\".format(input_idx, repr(idx2char[input_idx])))\n",
        "    print(\"  expected output: {} ({:s})\".format(target_idx, repr(idx2char[target_idx])))"
      ],
      "execution_count": 26,
      "outputs": [
        {
          "output_type": "stream",
          "text": [
            "Step   0\n",
            "  input: 82 ('|')\n",
            "  expected output: 60 ('e')\n",
            "Step   1\n",
            "  input: 60 ('e')\n",
            "  expected output: 26 ('A')\n",
            "Step   2\n",
            "  input: 26 ('A')\n",
            "  expected output: 58 ('c')\n",
            "Step   3\n",
            "  input: 58 ('c')\n",
            "  expected output: 26 ('A')\n",
            "Step   4\n",
            "  input: 26 ('A')\n",
            "  expected output: 1 (' ')\n"
          ],
          "name": "stdout"
        }
      ]
    },
    {
      "cell_type": "code",
      "metadata": {
        "id": "9-ZfgiIkl7lM",
        "colab_type": "code",
        "colab": {
          "base_uri": "https://localhost:8080/",
          "height": 251
        },
        "outputId": "7171baf4-5652-4fd8-ee6e-e526a1429de7"
      },
      "source": [
        "def LSTM_Model(vocab_size, embedding_dim, rnn_units, batch_size):\n",
        "  model = tf.keras.Sequential([\n",
        "    # Layer 1: Embedding layer to transform indices into dense vectors \n",
        "    tf.keras.layers.Embedding(vocab_size, embedding_dim, batch_input_shape = [batch_size, None]),\n",
        "    # Layer 2: LSTM with 'rnn_units' number of units\n",
        "    tf.keras.layers.LSTM(rnn_units, return_sequences = True, recurrent_initializer = 'glorot_uniform', recurrent_activation = 'sigmoid', stateful = True),\n",
        "    # Layer 3: Dense (fully-connected) layer that transforms the LSTM output into the vocabulary size\n",
        "    tf.keras.layers.Dense(vocab_size)\n",
        "  ])\n",
        "\n",
        "  return model\n",
        "\n",
        "model = LSTM_Model(vocab_size=len(vocab), embedding_dim=256, rnn_units=1024, batch_size=32)\n",
        "model.summary()"
      ],
      "execution_count": 27,
      "outputs": [
        {
          "output_type": "stream",
          "text": [
            "Model: \"sequential_2\"\n",
            "_________________________________________________________________\n",
            "Layer (type)                 Output Shape              Param #   \n",
            "=================================================================\n",
            "embedding_2 (Embedding)      (32, None, 256)           21248     \n",
            "_________________________________________________________________\n",
            "lstm_2 (LSTM)                (32, None, 1024)          5246976   \n",
            "_________________________________________________________________\n",
            "dense_2 (Dense)              (32, None, 83)            85075     \n",
            "=================================================================\n",
            "Total params: 5,353,299\n",
            "Trainable params: 5,353,299\n",
            "Non-trainable params: 0\n",
            "_________________________________________________________________\n"
          ],
          "name": "stdout"
        }
      ]
    },
    {
      "cell_type": "code",
      "metadata": {
        "id": "ivk619L_oNA_",
        "colab_type": "code",
        "colab": {
          "base_uri": "https://localhost:8080/",
          "height": 50
        },
        "outputId": "b48348fa-bcd3-4eb0-c667-1b521e1c16d6"
      },
      "source": [
        "x, y = get_batch(encodeded_songs, seq_length=100, batch_size=32)\n",
        "pred = model(x)\n",
        "print(\"Input shape:      \", x.shape, \" # (batch_size, sequence_length)\")\n",
        "print(\"Prediction shape: \", pred.shape, \"# (batch_size, sequence_length, vocab_size)\")"
      ],
      "execution_count": 28,
      "outputs": [
        {
          "output_type": "stream",
          "text": [
            "Input shape:       (32, 100)  # (batch_size, sequence_length)\n",
            "Prediction shape:  (32, 100, 83) # (batch_size, sequence_length, vocab_size)\n"
          ],
          "name": "stdout"
        }
      ]
    },
    {
      "cell_type": "code",
      "metadata": {
        "id": "o94OpSegvWrq",
        "colab_type": "code",
        "colab": {
          "base_uri": "https://localhost:8080/",
          "height": 117
        },
        "outputId": "20b668db-f8b9-430b-83a8-1acfd6ba7dfe"
      },
      "source": [
        "sampled_indices = tf.random.categorical(pred[0], num_samples=1)\n",
        "sampled_indices = tf.squeeze(sampled_indices,axis=-1).numpy()\n",
        "sampled_indices"
      ],
      "execution_count": 29,
      "outputs": [
        {
          "output_type": "execute_result",
          "data": {
            "text/plain": [
              "array([15, 66, 61,  6, 20, 76, 41, 22, 33, 35, 35, 35,  2, 25, 79,  5, 58,\n",
              "       10, 35, 31, 41, 70, 60, 77, 67, 76, 61, 70,  6, 57, 54, 10, 44, 24,\n",
              "       74,  8, 48, 70, 63,  8, 15, 74, 18, 54,  8, 76, 73, 75, 29, 25, 22,\n",
              "       40, 11,  3, 12,  6, 51, 76, 58, 13, 36, 60, 78, 45, 19, 54, 33, 28,\n",
              "       69, 52, 55, 53, 56, 49, 29, 42, 53, 42, 63, 41,  0, 53, 38, 51,  3,\n",
              "       33, 10, 51, 17, 19, 17, 12, 24, 31, 42, 65,  6, 47, 35, 37])"
            ]
          },
          "metadata": {
            "tags": []
          },
          "execution_count": 29
        }
      ]
    },
    {
      "cell_type": "code",
      "metadata": {
        "id": "BfFGDcRcvYAS",
        "colab_type": "code",
        "colab": {
          "base_uri": "https://localhost:8080/",
          "height": 100
        },
        "outputId": "c211d06d-0d67-4081-a4dd-79a708bf7ede"
      },
      "source": [
        "print(\"Input: \\n\", repr(\"\".join(idx2char[x[0]])))\n",
        "print()\n",
        "print(\"Next Char Predictions: \\n\", repr(\"\".join(idx2char[sampled_indices])))"
      ],
      "execution_count": 30,
      "outputs": [
        {
          "output_type": "stream",
          "text": [
            "Input: \n",
            " 'e|dAFA DAFA|d2ec dcBc|A2ce A2ce|fdec dcBA|!\\ndAFA DAFA|d2ec dcBA|gfgb afdf|eABc d2:|!\\nB=c|dgg2 bgg2|d'\n",
            "\n",
            "Next Char Predictions: \n",
            " '3kf(8uP:HJJJ!>x\\'c.JFPoevlufo(b^.S=s,Woh,3s6^,urtD>:O/\"0(Zuc1KewT7^HCn[_]aXDQ]QhP\\n]MZ\"H.Z5750=FQj(VJL'\n"
          ],
          "name": "stdout"
        }
      ]
    },
    {
      "cell_type": "code",
      "metadata": {
        "id": "4xUsCNl5vmvn",
        "colab_type": "code",
        "colab": {
          "base_uri": "https://localhost:8080/",
          "height": 50
        },
        "outputId": "c0c1985b-28c8-4d66-8c88-4ffd8e4cfa1d"
      },
      "source": [
        "def compute_loss(labels, logits):\n",
        "  \"\"\" The loss function to compute and return the loss between the true \n",
        "      labels and predictions (logits). Set the argument from_logits=True.\n",
        "  \"\"\"\n",
        "\n",
        "  loss = tf.keras.losses.sparse_categorical_crossentropy(labels, logits, from_logits=True)\n",
        "  return loss\n",
        "\n",
        "example_batch_loss = compute_loss(y, pred)\n",
        "\n",
        "print(\"Prediction shape: \", pred.shape, \" # (batch_size, sequence_length, vocab_size)\") \n",
        "print(\"scalar_loss:      \", example_batch_loss.numpy().mean())"
      ],
      "execution_count": 31,
      "outputs": [
        {
          "output_type": "stream",
          "text": [
            "Prediction shape:  (32, 100, 83)  # (batch_size, sequence_length, vocab_size)\n",
            "scalar_loss:       4.4185567\n"
          ],
          "name": "stdout"
        }
      ]
    },
    {
      "cell_type": "code",
      "metadata": {
        "id": "EvvjS1vHvoZ7",
        "colab_type": "code",
        "colab": {}
      },
      "source": [
        "### Hyperparameter setting and optimization ###\n",
        "\n",
        "# Optimization parameters:\n",
        "num_epochs = 7500  # Increase this to train longer\n",
        "batch_size = 64  # Experiment between 1 and 64\n",
        "seq_length = 125  # Experiment between 50 and 500\n",
        "learning_rate = 1e-4  # Experiment between 1e-5 and 1e-1\n",
        "\n",
        "# Model parameters: \n",
        "vocab_size = len(vocab)\n",
        "embedding_dim = 256 \n",
        "rnn_units = 1024  # Experiment between 1 and 2048\n",
        "\n",
        "# Checkpoint location: \n",
        "checkpoint_dir = './training_checkpoints'\n",
        "checkpoint_prefix = os.path.join(checkpoint_dir, \"my_ckpt\")"
      ],
      "execution_count": 39,
      "outputs": []
    },
    {
      "cell_type": "code",
      "metadata": {
        "id": "15VsNMMUvtru",
        "colab_type": "code",
        "colab": {
          "base_uri": "https://localhost:8080/",
          "height": 50
        },
        "outputId": "8a0be438-e50e-4062-9abb-ac1636ff65ec"
      },
      "source": [
        "# Create model\n",
        "model = LSTM_Model(vocab_size, embedding_dim, rnn_units, batch_size)\n",
        "# Define optimizer\n",
        "optimizer = tf.keras.optimizers.Adam(learning_rate)\n",
        "\n",
        "@tf.function\n",
        "def train_step(x, y): \n",
        "  # Use tf.GradientTape()\n",
        "  with tf.GradientTape() as tape:\n",
        "    # Feed the current input into the model and generate predictions\n",
        "    y_hat = model(x)\n",
        "    # Compute the loss\n",
        "    loss = compute_loss(y, y_hat)\n",
        "\n",
        "  # Compute the gradients\n",
        "  grads = tape.gradient(loss, model.trainable_variables)\n",
        "  # Apply the gradients to the optimizer so it can update the model accordingly\n",
        "  optimizer.apply_gradients(zip(grads, model.trainable_variables))\n",
        "\n",
        "  return loss\n",
        "\n",
        "###################\n",
        "# Begin training! #\n",
        "###################\n",
        "\n",
        "history = []\n",
        "if hasattr(tqdm, '_instances'): tqdm._instances.clear() # clear if it exists\n",
        "\n",
        "for epoch in tqdm(range(num_epochs)):\n",
        "  # Grab a batch and propagate it through the network\n",
        "  x_batch, y_batch = get_batch(encodeded_songs, seq_length, batch_size)\n",
        "  loss = train_step(x_batch, y_batch)\n",
        "\n",
        "  # Update the progress bar\n",
        "  history.append(loss.numpy().mean())\n",
        "\n",
        "  # Update the model with the changed weights!\n",
        "  if epoch % 100 == 0:     \n",
        "    model.save_weights(checkpoint_prefix)\n",
        "    \n",
        "# Save the trained model and the weights\n",
        "model.save_weights(checkpoint_prefix)"
      ],
      "execution_count": 40,
      "outputs": [
        {
          "output_type": "stream",
          "text": [
            "  8%|▊         | 832/10000 [05:49<1:04:10,  2.38it/s]\n",
            "100%|██████████| 7500/7500 [24:14<00:00,  5.15it/s]\n"
          ],
          "name": "stderr"
        }
      ]
    },
    {
      "cell_type": "code",
      "metadata": {
        "id": "6ZZrr--gqnWs",
        "colab_type": "code",
        "colab": {
          "base_uri": "https://localhost:8080/",
          "height": 251
        },
        "outputId": "b40078c7-ce01-4192-fbc1-d91eb2feaf97"
      },
      "source": [
        "# Rebuild the model using a batch_size=1\n",
        "model = LSTM_Model(vocab_size, embedding_dim, rnn_units, batch_size=1)\n",
        "\n",
        "# Restore the model weights for the last checkpoint after training\n",
        "model.load_weights(tf.train.latest_checkpoint(checkpoint_dir))\n",
        "model.build(tf.TensorShape([1, None]))\n",
        "\n",
        "model.summary()"
      ],
      "execution_count": 41,
      "outputs": [
        {
          "output_type": "stream",
          "text": [
            "Model: \"sequential_6\"\n",
            "_________________________________________________________________\n",
            "Layer (type)                 Output Shape              Param #   \n",
            "=================================================================\n",
            "embedding_6 (Embedding)      (1, None, 256)            21248     \n",
            "_________________________________________________________________\n",
            "lstm_6 (LSTM)                (1, None, 1024)           5246976   \n",
            "_________________________________________________________________\n",
            "dense_6 (Dense)              (1, None, 83)             85075     \n",
            "=================================================================\n",
            "Total params: 5,353,299\n",
            "Trainable params: 5,353,299\n",
            "Non-trainable params: 0\n",
            "_________________________________________________________________\n"
          ],
          "name": "stdout"
        }
      ]
    },
    {
      "cell_type": "code",
      "metadata": {
        "id": "SBFhBeQUqrtu",
        "colab_type": "code",
        "colab": {}
      },
      "source": [
        "### Prediction of a generated song ###\n",
        "\n",
        "def generate_text(model, start_string, generation_length=1000):\n",
        "  # Evaluation step (generating ABC text using the learned RNN model)\n",
        "\n",
        "  # Convert the start string to numbers (vectorize)'''\n",
        "  input_eval = [char2idx[s] for s in start_string] # TODO\n",
        "  # input_eval = ['''TODO''']\n",
        "  input_eval = tf.expand_dims(input_eval, 0)\n",
        "\n",
        "  # Empty string to store our results\n",
        "  text_generated = []\n",
        "\n",
        "  # Here batch size == 1\n",
        "  model.reset_states()\n",
        "  tqdm._instances.clear()\n",
        "\n",
        "  for i in tqdm(range(generation_length)):\n",
        "      # Evaluate the inputs and generate the next character predictions\n",
        "      predictions = model(input_eval)\n",
        "      # predictions = model('''TODO''')\n",
        "      \n",
        "      # Remove the batch dimension\n",
        "      predictions = tf.squeeze(predictions, 0)\n",
        "      \n",
        "      # Use a multinomial distribution to sample\n",
        "      predicted_id = tf.random.categorical(predictions, num_samples=1)[-1,0].numpy()\n",
        "      # predicted_id = tf.random.categorical('''TODO''', num_samples=1)[-1,0].numpy()\n",
        "      \n",
        "      # Pass the prediction along with the previous hidden state\n",
        "      # as the next inputs to the model\n",
        "      input_eval = tf.expand_dims([predicted_id], 0)\n",
        "      \n",
        "      # Add the predicted character to the generated text!\n",
        "      text_generated.append(idx2char[predicted_id]) # TODO \n",
        "    \n",
        "  return (start_string + ''.join(text_generated))"
      ],
      "execution_count": 42,
      "outputs": []
    },
    {
      "cell_type": "code",
      "metadata": {
        "id": "FRU5lxuOqsOz",
        "colab_type": "code",
        "colab": {
          "base_uri": "https://localhost:8080/",
          "height": 33
        },
        "outputId": "a70eaef9-eba1-4941-895a-52bfb1cfd4b3"
      },
      "source": [
        "generated_text = generate_text(model, start_string=\"X\", generation_length=1000)"
      ],
      "execution_count": 63,
      "outputs": [
        {
          "output_type": "stream",
          "text": [
            "100%|██████████| 1000/1000 [00:06<00:00, 152.25it/s]\n"
          ],
          "name": "stderr"
        }
      ]
    },
    {
      "cell_type": "code",
      "metadata": {
        "id": "je9Dko4O_Bcj",
        "colab_type": "code",
        "colab": {
          "base_uri": "https://localhost:8080/",
          "height": 719
        },
        "outputId": "6eb3fe2c-2568-4518-b483-a4c0d53e4484"
      },
      "source": [
        "### Play back generated songs ###\n",
        "\n",
        "generated_songs = extract_song_snippet(generated_text)\n",
        "\n",
        "for i, song in enumerate(generated_songs): \n",
        "    print(song)"
      ],
      "execution_count": 64,
      "outputs": [
        {
          "output_type": "stream",
          "text": [
            "Found 4 songs in text\n",
            "X:180\n",
            "T:K:tinpong\n",
            "Z: id:dc-jig-147\n",
            "M:6/8\n",
            "L:1/8\n",
            "K:G Major\n",
            "D|G2B G2B|d2g dBG|cBc def|gfe d2B|ABc d2g|!\n",
            "[1 g2f g2|e2 g2|d2 d2|c2B A2|B3 c B2|A3 F A F2|E3 E E2:|!\n",
            "X:15\n",
            "T:Peange tree's Foroush\n",
            "Z: id:dc-setdance-29\n",
            "M:|3:1\n",
            "T:Hoyt Bulley's\n",
            "Z: id:dc-hornpipe-10\n",
            "M:C|\n",
            "L:1/8\n",
            "K:G Major\n",
            "(3DEF|GFGB ABd|!\n",
            "G2Bc B2GB|cBAF GAFA|GBG2 GB,C|ABd e2|GF DA/C|C2 EG:|!\n",
            "X:55\n",
            "T:Wevic Fattye Doledorn\n",
            "Z: id:dc-reel-113\n",
            "M:C\n",
            "L:1/8\n",
            "K:A Dorian\n",
            "dB|A2BA G2GB|ABAG FDdf|e2dB AGFD|cBcd ecAG|!\n",
            "AFFG FADF|FDAF G2FG|ADFG AGcd|egfg a2gaf|!\n",
            "bgaf gfdfe|dcBA GABc|dBge dBGB|checA:|!\n",
            "M:jixly Da C\n",
            "L:1/8\n",
            "K:G Major\n",
            "GE|G2BG EGBD|GBBA GBBd|a2ga bgfa|gedB AFAg|!\n",
            "f2af g2fe|dBAF DFEF|DFAF BFAF|D2FA B2:|!\n",
            "X:227\n",
            "T:Pate to Menset\n",
            "Z: id:dc-reel-321\n",
            "M:C\n",
            "L:1/8\n",
            "K:D Major\n",
            "FA|d2fd ABFA|BDFA BAce|age dBAGFED (3DFE|!\n",
            "D2DD FDAD|EDFD E2ce|dBAc BEEA|BGE2 B2f|gfg fec|dfe dBA|BGE E2D:|!\n"
          ],
          "name": "stdout"
        }
      ]
    },
    {
      "cell_type": "code",
      "metadata": {
        "id": "ZqFvE6Tj_IHp",
        "colab_type": "code",
        "colab": {}
      },
      "source": [
        ""
      ],
      "execution_count": null,
      "outputs": []
    }
  ]
}